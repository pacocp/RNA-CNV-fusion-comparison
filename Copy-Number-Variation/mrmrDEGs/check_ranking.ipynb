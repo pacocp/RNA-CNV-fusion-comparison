{
 "cells": [
  {
   "cell_type": "code",
   "execution_count": 4,
   "metadata": {},
   "outputs": [],
   "source": [
    "import pandas as pd\n",
    "import numpy as np"
   ]
  },
  {
   "cell_type": "code",
   "execution_count": 5,
   "metadata": {},
   "outputs": [],
   "source": [
    "# obtain gene ranking\n",
    "genes_appeareances = {}\n",
    "for i in range(10):\n",
    "    mrmr_genes = pd.read_csv('mrmrDEGs_LC_CNV_3classes_p0-001_m0-1_cov3_split'+str(i)+'.txt', sep=' ')\n",
    "    genes = mrmr_genes['x'].values[0:12]\n",
    "    for g in genes:\n",
    "        if g not in genes_appeareances.keys():\n",
    "                genes_appeareances[g] = {}\n",
    "        position = np.where(genes == g)[0][0]\n",
    "        if position not in genes_appeareances[g].keys():\n",
    "            genes_appeareances[g][position] = 0\n",
    "        \n",
    "        genes_appeareances[g][position] += 1\n",
    "\n"
   ]
  },
  {
   "cell_type": "code",
   "execution_count": 19,
   "metadata": {},
   "outputs": [
    {
     "name": "stdout",
     "output_type": "stream",
     "text": [
      "BSN-AS1\n",
      "RHBG\n",
      "RP11-524L6.4\n",
      "CDKN2B\n",
      "CTD-2653M23.3\n",
      "FOXP1-AS1\n",
      "CLDN22\n",
      "ZBTB7B\n",
      "RP3-324O17.8\n",
      "ERC2-IT1\n",
      "RP11-480D4.1\n",
      "APOL2\n",
      "CTD-2154B17.1\n",
      "ERVFRD-3\n",
      "SORBS2\n",
      "MAGI1-IT1\n",
      "GBAP1\n",
      "CTD-2353F22.1\n",
      "MTX1\n",
      "DNAH12\n",
      "CTC-232H10.1\n",
      "SNORA72\n",
      "TPMTP2\n",
      "CTD-2066L21.3\n",
      "CTA-212A2.3\n",
      "PSMD4\n",
      "EIF4E3\n",
      "CTD-2154B17.3\n",
      "BSN-AS2\n",
      "ZNF687\n",
      "CTD-2154B17.4\n",
      "RP11-708J19.3\n",
      "CTB-40H15.4\n",
      "RP11-375H17.1\n",
      "BCL2L1\n",
      "CDKN2A\n",
      "FTH1P23\n",
      "AF067845.1\n",
      "RP11-374A4.1\n",
      "MTX1P1\n",
      "RP11-531A21.3\n",
      "STOX2\n",
      "RP11-321L2.1\n",
      "SMARCC1\n",
      "RP1-213J1P__B.2\n",
      "LTF\n",
      "TMEM110-MUSTN1\n",
      "SCAP\n",
      "RP11-296L20.1\n",
      "MYLKP1\n",
      "PI4KB\n"
     ]
    }
   ],
   "source": [
    "# obtain those genes that appear more than three times across splits\n",
    "\n",
    "genes_best = []\n",
    "for gene in genes_appeareances.items():\n",
    "    print(gene[0])\n",
    "    found = False\n",
    "    keys = [*gene[1]]\n",
    "    i = 0\n",
    "    while(not found and i < len(keys)):\n",
    "        if gene[1][keys[i]] >= 3:\n",
    "            found = True\n",
    "            genes_best.append(gene[0])\n",
    "        i += 1"
   ]
  },
  {
   "cell_type": "code",
   "execution_count": 6,
   "metadata": {},
   "outputs": [
    {
     "data": {
      "text/plain": [
       "['BSN-AS1',\n",
       " 'RHBG',\n",
       " 'RP11-524L6.4',\n",
       " 'CDKN2B',\n",
       " 'CTD-2653M23.3',\n",
       " 'FOXP1-AS1',\n",
       " 'CLDN22',\n",
       " 'ZBTB7B',\n",
       " 'RP3-324O17.8',\n",
       " 'ERC2-IT1',\n",
       " 'RP11-480D4.1',\n",
       " 'APOL2',\n",
       " 'CTD-2154B17.1',\n",
       " 'ERVFRD-3',\n",
       " 'SORBS2',\n",
       " 'MAGI1-IT1',\n",
       " 'GBAP1',\n",
       " 'CTD-2353F22.1',\n",
       " 'MTX1',\n",
       " 'DNAH12',\n",
       " 'CTC-232H10.1',\n",
       " 'SNORA72',\n",
       " 'TPMTP2',\n",
       " 'CTD-2066L21.3',\n",
       " 'CTA-212A2.3',\n",
       " 'PSMD4',\n",
       " 'EIF4E3',\n",
       " 'CTD-2154B17.3',\n",
       " 'BSN-AS2',\n",
       " 'ZNF687',\n",
       " 'CTD-2154B17.4',\n",
       " 'RP11-708J19.3',\n",
       " 'CTB-40H15.4',\n",
       " 'RP11-375H17.1',\n",
       " 'BCL2L1',\n",
       " 'CDKN2A',\n",
       " 'FTH1P23',\n",
       " 'AF067845.1',\n",
       " 'RP11-374A4.1',\n",
       " 'MTX1P1',\n",
       " 'RP11-531A21.3',\n",
       " 'STOX2',\n",
       " 'RP11-321L2.1',\n",
       " 'SMARCC1',\n",
       " 'RP1-213J1P__B.2',\n",
       " 'LTF',\n",
       " 'TMEM110-MUSTN1',\n",
       " 'SCAP',\n",
       " 'RP11-296L20.1',\n",
       " 'MYLKP1',\n",
       " 'PI4KB']"
      ]
     },
     "execution_count": 6,
     "metadata": {},
     "output_type": "execute_result"
    }
   ],
   "source": [
    "[*genes_appeareances]"
   ]
  },
  {
   "cell_type": "markdown",
   "metadata": {},
   "source": [
    "['BSN-AS1','RHBG', 'RP11-524L6.4','CDKN2B','FOXP1-AS1','ZBTB7B','RP3-324O17.8']"
   ]
  },
  {
   "cell_type": "code",
   "execution_count": 7,
   "metadata": {},
   "outputs": [
    {
     "data": {
      "text/plain": [
       "{'BSN-AS1': {0: 7},\n",
       " 'RHBG': {1: 4, 7: 1},\n",
       " 'RP11-524L6.4': {2: 6, 4: 2, 3: 1},\n",
       " 'CDKN2B': {3: 6, 4: 2},\n",
       " 'CTD-2653M23.3': {4: 2, 9: 2, 3: 2},\n",
       " 'FOXP1-AS1': {5: 6, 4: 1, 9: 1},\n",
       " 'CLDN22': {6: 1},\n",
       " 'ZBTB7B': {7: 1, 1: 4, 8: 1},\n",
       " 'RP3-324O17.8': {8: 3, 10: 1, 6: 3, 7: 1},\n",
       " 'ERC2-IT1': {9: 1, 11: 1, 8: 1},\n",
       " 'RP11-480D4.1': {10: 2},\n",
       " 'APOL2': {11: 1, 5: 1, 9: 1},\n",
       " 'CTD-2154B17.1': {2: 1},\n",
       " 'ERVFRD-3': {3: 1},\n",
       " 'SORBS2': {6: 1, 10: 1, 9: 1, 11: 1},\n",
       " 'MAGI1-IT1': {8: 2, 6: 2, 7: 1},\n",
       " 'GBAP1': {1: 2},\n",
       " 'CTD-2353F22.1': {2: 1, 4: 1},\n",
       " 'MTX1': {7: 1, 8: 1},\n",
       " 'DNAH12': {8: 2},\n",
       " 'CTC-232H10.1': {9: 1},\n",
       " 'SNORA72': {10: 1, 6: 1},\n",
       " 'TPMTP2': {11: 1},\n",
       " 'CTD-2066L21.3': {4: 1},\n",
       " 'CTA-212A2.3': {5: 1},\n",
       " 'PSMD4': {7: 1},\n",
       " 'EIF4E3': {9: 1},\n",
       " 'CTD-2154B17.3': {11: 1},\n",
       " 'BSN-AS2': {0: 1},\n",
       " 'ZNF687': {7: 2},\n",
       " 'CTD-2154B17.4': {10: 1},\n",
       " 'RP11-708J19.3': {11: 1},\n",
       " 'CTB-40H15.4': {2: 1, 9: 1, 10: 1},\n",
       " 'RP11-375H17.1': {4: 1},\n",
       " 'BCL2L1': {5: 1},\n",
       " 'CDKN2A': {6: 1},\n",
       " 'FTH1P23': {10: 1},\n",
       " 'AF067845.1': {11: 1},\n",
       " 'RP11-374A4.1': {2: 1},\n",
       " 'MTX1P1': {6: 1},\n",
       " 'RP11-531A21.3': {9: 1},\n",
       " 'STOX2': {10: 1},\n",
       " 'RP11-321L2.1': {11: 1},\n",
       " 'SMARCC1': {0: 1},\n",
       " 'RP1-213J1P__B.2': {5: 1},\n",
       " 'LTF': {11: 1},\n",
       " 'TMEM110-MUSTN1': {0: 1},\n",
       " 'SCAP': {7: 1},\n",
       " 'RP11-296L20.1': {10: 1},\n",
       " 'MYLKP1': {11: 1},\n",
       " 'PI4KB': {7: 1}}"
      ]
     },
     "execution_count": 7,
     "metadata": {},
     "output_type": "execute_result"
    }
   ],
   "source": [
    "genes_appeareances"
   ]
  }
 ],
 "metadata": {
  "kernelspec": {
   "display_name": "Python 3",
   "language": "python",
   "name": "python3"
  },
  "language_info": {
   "codemirror_mode": {
    "name": "ipython",
    "version": 3
   },
   "file_extension": ".py",
   "mimetype": "text/x-python",
   "name": "python",
   "nbconvert_exporter": "python",
   "pygments_lexer": "ipython3",
   "version": "3.9.4"
  }
 },
 "nbformat": 4,
 "nbformat_minor": 4
}
