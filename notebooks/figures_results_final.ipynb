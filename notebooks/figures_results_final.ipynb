{
 "cells": [
  {
   "cell_type": "code",
   "execution_count": 6,
   "id": "874195bc",
   "metadata": {
    "scrolled": true
   },
   "outputs": [],
   "source": [
    "import numpy as np\n",
    "import pandas as pd\n",
    "import matplotlib.pyplot as plt\n",
    "from openpyxl import load_workbook\n",
    "from glob import glob\n",
    "from sklearn.metrics import confusion_matrix, accuracy_score, roc_auc_score, f1_score"
   ]
  },
  {
   "cell_type": "markdown",
   "id": "3497c08f",
   "metadata": {},
   "source": [
    "## Gest stats"
   ]
  },
  {
   "cell_type": "code",
   "execution_count": 4,
   "id": "501d05c9",
   "metadata": {
    "scrolled": false
   },
   "outputs": [
    {
     "name": "stdout",
     "output_type": "stream",
     "text": [
      "-----------\n",
      "../excel_results/RNA-CNV-Integration-late-fusion-XGBOOST_both.xlsx\n",
      "-----------\n",
      "Fused ACC: 94.12915369444595+-1.596105038602268\n",
      "\n",
      "\n",
      "Fused F1: 94.09252799463825 +- 1.7048343647880915\n",
      "\n",
      "\n",
      "Fused AUC: 0.9836043361324975 +- 0.005857833610709647\n",
      "-----------\n",
      "../excel_results/RNA6_CNV12_early_fusion_test.xlsx\n",
      "-----------\n",
      "Fused ACC: 95.02304350330967+-1.3231842755622627\n",
      "\n",
      "\n",
      "Fused F1: 95.00621374843608 +- 1.3261916548868173\n",
      "\n",
      "\n",
      "Fused AUC: 0.9845371851589441 +- 0.008606587929515996\n",
      "-----------\n",
      "../excel_results/intermediate_fusion_test.xlsx\n",
      "-----------\n",
      "Fused ACC: 95.01088218145044+-1.7652479633148048\n",
      "\n",
      "\n",
      "Fused F1: 95.13146288584102 +- 1.7324914873325021\n",
      "\n",
      "\n",
      "Fused AUC: 0.9895144172453868 +- 0.007451322162747364\n"
     ]
    }
   ],
   "source": [
    "for file in sorted(glob('../excel_results/*.xlsx')):\n",
    "    data = pd.read_excel(file,\n",
    "          sheet_name=[0,1,2,3,4,5,6,7,8,9], engine='openpyxl')\n",
    "    cnn_accs = []\n",
    "    gen_accs = []\n",
    "    combined_accs = []\n",
    "    auc_cnn = []\n",
    "    auc_gen = []\n",
    "    auc_prob = []\n",
    "    f1_cnn = []\n",
    "    f1_gen = []\n",
    "    f1_fusion = []\n",
    "    for df_name, df in data.items():\n",
    "        real = df['Real'].values\n",
    "        #cnn_preds = df['CNN Pred'].values\n",
    "        #gen_preds = df['Gen Pred'].values\n",
    "        combined_preds = df['Integration Pred'].values\n",
    "\n",
    "        #CNN_prob = [[x,y,z] for x,y,z in zip(df['CNN Prob LUAD'], df['CNN Prob HLT'], df['CNN Prob LUSC'])]\n",
    "        #gen_prob = [[x,y,z] for x,y,z in zip(df['Gen Prob LUAD'], df['Gen Prob HLT'], df['Gen Prob LUSC'])]\n",
    "        try:\n",
    "            fused_prob = [[x,y,z] for x,y,z in zip(df['Intregation Prob LUAD'], df['Integration Prob HLT'], df['Integration Prob LUSC'])]\n",
    "        except:\n",
    "            fused_prob = [[x,y,z] for x,y,z in zip(df['Integration Prob LUAD'], df['Integration Prob HLT'], df['Integration Prob LUSC'])]\n",
    "\n",
    "        #cnn_acc = accuracy_score(real, cnn_preds)\n",
    "        #gen_acc = accuracy_score(real, gen_preds)\n",
    "        combined_acc = accuracy_score(real, combined_preds)\n",
    "        #cnn = roc_auc_score(real, CNN_prob, multi_class='ovr')\n",
    "        #gen = roc_auc_score(real, gen_prob, multi_class='ovr')\n",
    "        try:\n",
    "            fused = roc_auc_score(real, fused_prob, multi_class='ovr')\n",
    "        except:\n",
    "            pass\n",
    "\n",
    "        #print('CM gen')\n",
    "        #print(confusion_matrix(real, gen_preds))\n",
    "        #auc_cnn.append(cnn)\n",
    "        #auc_gen.append(gen)\n",
    "        auc_prob.append(fused)\n",
    "\n",
    "        #cnn_accs.append(cnn_acc*100)\n",
    "    #gen_accs.append(gen_acc*100)\n",
    "        combined_accs.append(combined_acc*100)\n",
    "        \n",
    "        #f1_cnn.append(f1_score(real, cnn_preds, average='weighted')*100)\n",
    "        #f1_gen.append(f1_score(real, gen_preds, average='weighted')*100)\n",
    "        f1_fusion.append(f1_score(real, combined_preds, average='weighted')*100)\n",
    " \n",
    "    print('-----------')\n",
    "    print(file)\n",
    "    print('-----------')\n",
    "\n",
    "    #print('CNN ACC: {}+-{}'.format(np.mean(cnn_accs), np.std(cnn_accs)))\n",
    "    #print('Gen ACC: {}+-{}'.format(np.mean(gen_accs), np.std(gen_accs)))\n",
    "    print('Fused ACC: {}+-{}'.format(np.mean(combined_accs), np.std(combined_accs)))\n",
    "    print('\\n')\n",
    "    #print('CNN F1: {} +- {}'.format(np.mean(f1_cnn),np.std(f1_cnn)))\n",
    "    #print('Gen F1: {} +- {}'.format(np.mean(f1_gen),np.std(f1_gen)))\n",
    "    print('Fused F1: {} +- {}'.format(np.mean(f1_fusion),np.std(f1_fusion)))\n",
    "    print('\\n')\n",
    "    #print('CNN AUC: {} +- {}'.format(np.mean(auc_cnn),np.std(auc_cnn)))\n",
    "    #print('Gen AUC: {} +- {}'.format(np.mean(auc_gen),np.std(auc_gen)))\n",
    "    print('Fused AUC: {} +- {}'.format(np.mean(auc_prob),np.std(auc_prob)))"
   ]
  },
  {
   "cell_type": "code",
   "execution_count": 87,
   "id": "7f6431e0",
   "metadata": {},
   "outputs": [
    {
     "name": "stdout",
     "output_type": "stream",
     "text": [
      "-----------\n",
      "intermediate_integration_test.xlsx\n",
      "-----------\n",
      "RNA ACC: 94.46132358937881+-1.6687001682216245\n",
      "CNV ACC: 80.74840589281864+-3.8108039204280098\n",
      "Fused ACC: 95.02304350330967+-1.3231842755622627\n",
      "\n",
      "\n",
      "RNA F1: 94.41831523319982 +- 1.6761153247309803\n",
      "CNV F1: 80.71437331306203 +- 3.8316555732742517\n",
      "Fused F1: 95.00621374843608 +- 1.3261916548868173\n",
      "\n",
      "\n",
      "RNA AUC: 0.9789516035762598 +- 0.010327116458552587\n",
      "CNV AUC: 0.910706397285335 +- 0.01302014956145547\n",
      "Fused AUC: 0.9845371851589441 +- 0.008606587929515996\n"
     ]
    }
   ],
   "source": [
    "data = pd.read_excel('../excel_results/RNA6_CNV12_early_fusion_test.xlsx',\n",
    "      sheet_name=[0,1,2,3,4,5,6,7,8,9], engine='openpyxl')\n",
    "cnn_accs = []\n",
    "gen_accs = []\n",
    "combined_accs = []\n",
    "auc_cnn = []\n",
    "auc_gen = []\n",
    "auc_prob = []\n",
    "f1_cnn = []\n",
    "f1_gen = []\n",
    "f1_fusion = []\n",
    "for df_name, df in data.items():\n",
    "    #df = df.loc[(df['Has RNA'] != -1) & (df['Has CNV'] != -1)]\n",
    "    real = df['Real'].values\n",
    "    cnn_preds = df['RNA Pred'].values\n",
    "    gen_preds = df['CNV Pred'].values\n",
    "    combined_preds = df['Integration Pred'].values\n",
    "\n",
    "    CNN_prob = [[x,y,z] for x,y,z in zip(df['RNA Prob LUAD'], df['RNA Prob HLT'], df['RNA Prob LUSC'])]\n",
    "    gen_prob = [[x,y,z] for x,y,z in zip(df['CNV Prob LUAD'], df['CNV Prob HLT'], df['CNV Prob LUSC'])]\n",
    "\n",
    "    try:\n",
    "        fused_prob = [[x,y,z] for x,y,z in zip(df['Intregation Prob LUAD'], df['Integration Prob HLT'], df['Integration Prob LUSC'])]\n",
    "    except:\n",
    "        fused_prob = [[x,y,z] for x,y,z in zip(df['Integration Prob LUAD'], df['Integration Prob HLT'], df['Integration Prob LUSC'])]\n",
    "\n",
    "    cnn_acc = accuracy_score(real, cnn_preds)\n",
    "    gen_acc = accuracy_score(real, gen_preds)\n",
    "    combined_acc = accuracy_score(real, combined_preds)\n",
    "    try:\n",
    "        cnn = roc_auc_score(real, CNN_prob, multi_class='ovr')\n",
    "    except:\n",
    "        pass\n",
    "    try:\n",
    "        gen = roc_auc_score(real, gen_prob, multi_class='ovr')\n",
    "    except:\n",
    "        pass\n",
    "    try:\n",
    "        fused = roc_auc_score(real, fused_prob, multi_class='ovr')\n",
    "    except:\n",
    "        pass\n",
    "\n",
    "    auc_cnn.append(cnn)\n",
    "    auc_gen.append(gen)\n",
    "    auc_prob.append(fused)\n",
    "\n",
    "    combined_accs.append(combined_acc*100)\n",
    "    cnn_accs.append(cnn_acc*100)\n",
    "    gen_accs.append(gen_acc*100)\n",
    "    f1_cnn.append(f1_score(real, cnn_preds, average='weighted')*100)\n",
    "    f1_gen.append(f1_score(real, gen_preds, average='weighted')*100)\n",
    "    f1_fusion.append(f1_score(real, combined_preds, average='weighted')*100)\n",
    "\n",
    "print('-----------')\n",
    "print(file)\n",
    "print('-----------')\n",
    "\n",
    "print('RNA ACC: {}+-{}'.format(np.mean(cnn_accs), np.std(cnn_accs)))\n",
    "print('CNV ACC: {}+-{}'.format(np.mean(gen_accs), np.std(gen_accs)))\n",
    "print('Fused ACC: {}+-{}'.format(np.mean(combined_accs), np.std(combined_accs)))\n",
    "print('\\n')\n",
    "print('RNA F1: {} +- {}'.format(np.mean(f1_cnn),np.std(f1_cnn)))\n",
    "print('CNV F1: {} +- {}'.format(np.mean(f1_gen),np.std(f1_gen)))\n",
    "print('Fused F1: {} +- {}'.format(np.mean(f1_fusion),np.std(f1_fusion)))\n",
    "print('\\n')\n",
    "print('RNA AUC: {} +- {}'.format(np.mean(auc_cnn),np.std(auc_cnn)))\n",
    "print('CNV AUC: {} +- {}'.format(np.mean(auc_gen),np.std(auc_gen)))\n",
    "print('Fused AUC: {} +- {}'.format(np.mean(auc_prob),np.std(auc_prob)))"
   ]
  },
  {
   "cell_type": "markdown",
   "id": "84beb751",
   "metadata": {},
   "source": [
    "## Number of samples"
   ]
  },
  {
   "cell_type": "code",
   "execution_count": 67,
   "id": "aecfea36",
   "metadata": {},
   "outputs": [],
   "source": [
    "data = pd.read_excel('data_integration_model_test_probs_RNA-CNV-alphas-XGBOOST.xlsx',\n",
    "            sheet_name=[0], engine='openpyxl')\n",
    "data_train = pd.read_excel('../two-sources-integration/data_integration_model_train_probs_RNA-CNV-alphas-XGBOOST.xlsx',\n",
    "            sheet_name=[0], engine='openpyxl')\n",
    "data = data[0]\n",
    "data_train = data_train[0]\n",
    "df_rna = data.loc[data['Has RNA'] != -1]\n",
    "df_cnv = data.loc[data['Has CNV'] != -1]\n",
    "df_both = data.loc[(data['Has RNA'] != -1) & (data['Has CNV'] != -1)]\n",
    "\n",
    "df_rna_train = data_train.loc[data_train['Has RNA'] != -1]\n",
    "df_cnv_train = data_train.loc[data_train['Has CNV'] != -1]\n",
    "df_both_train = data_train.loc[(data_train['Has RNA'] != -1) & (data_train['Has CNV'] != -1)]"
   ]
  },
  {
   "cell_type": "code",
   "execution_count": 68,
   "id": "246617cd",
   "metadata": {},
   "outputs": [],
   "source": [
    "total_rna = np.concatenate([df_rna['Real'].values, df_rna_train['Real'].values], axis=0)\n",
    "total_cnv = np.concatenate([df_cnv['Real'].values, df_cnv_train['Real'].values], axis=0)\n",
    "total_both = np.concatenate([df_both['Real'].values, df_both_train['Real'].values], axis=0)"
   ]
  },
  {
   "cell_type": "code",
   "execution_count": 69,
   "id": "b6de64a8",
   "metadata": {},
   "outputs": [
    {
     "name": "stdout",
     "output_type": "stream",
     "text": [
      "Counter({2: 479, 0: 457, 1: 44})\n",
      "Counter({1: 919, 2: 472, 0: 465})\n",
      "Counter({2: 448, 0: 433, 1: 23})\n"
     ]
    }
   ],
   "source": [
    "from collections import Counter\n",
    "print(Counter(total_rna))\n",
    "print(Counter(total_cnv))\n",
    "print(Counter(total_both))"
   ]
  },
  {
   "cell_type": "markdown",
   "id": "81e3c305",
   "metadata": {},
   "source": [
    "## ROC CURVES"
   ]
  },
  {
   "cell_type": "code",
   "execution_count": null,
   "id": "503f9902",
   "metadata": {},
   "outputs": [
    {
     "name": "stdout",
     "output_type": "stream",
     "text": [
      "Solving environment: done\n",
      "\n",
      "\n",
      "==> WARNING: A newer version of conda exists. <==\n",
      "  current version: 4.5.4\n",
      "  latest version: 4.10.3\n",
      "\n",
      "Please update conda by running\n",
      "\n",
      "    $ conda update -n base conda\n",
      "\n",
      "\n",
      "\n",
      "## Package Plan ##\n",
      "\n",
      "  environment location: /home/pacocp/anaconda3\n",
      "\n",
      "  added / updated specs: \n",
      "    - tqdm\n",
      "\n",
      "\n",
      "The following packages will be downloaded:\n",
      "\n",
      "    package                    |            build\n",
      "    ---------------------------|-----------------\n",
      "    libedit-3.1.20181209       |       hc058e9b_0         188 KB\n",
      "    wheel-0.36.2               |     pyhd3eb1b0_0          31 KB\n",
      "    tk-8.6.10                  |       hbc83047_0         3.2 MB\n",
      "    _libgcc_mutex-0.1          |             main           3 KB\n",
      "    ca-certificates-2021.7.5   |       h06a4308_1         119 KB\n",
      "    certifi-2021.5.30          |   py37h06a4308_0         141 KB\n",
      "    python-3.7.0               |       hc3d631a_0        31.7 MB\n",
      "    zlib-1.2.11                |       h7b6447c_3         120 KB\n",
      "    sqlite-3.31.1              |       h7b6447c_0         2.0 MB\n",
      "    libgcc-ng-9.1.0            |       hdf63c60_0         8.1 MB\n",
      "    xz-5.2.5                   |       h7b6447c_0         438 KB\n",
      "    tqdm-4.61.2                |     pyhd3eb1b0_1          80 KB\n",
      "    setuptools-52.0.0          |   py37h06a4308_0         921 KB\n",
      "    readline-7.0               |       h7b6447c_5         392 KB\n",
      "    openssl-1.0.2u             |       h7b6447c_0         3.1 MB\n",
      "    pip-21.1.3                 |   py37h06a4308_0         2.0 MB\n",
      "    ------------------------------------------------------------\n",
      "                                           Total:        52.5 MB\n",
      "\n",
      "The following NEW packages will be INSTALLED:\n",
      "\n",
      "    _libgcc_mutex:   0.1-main               \n",
      "    tqdm:            4.61.2-pyhd3eb1b0_1    \n",
      "\n",
      "The following packages will be UPDATED:\n",
      "\n",
      "    ca-certificates: 2018.03.07-0            --> 2021.7.5-h06a4308_1     \n",
      "    certifi:         2018.4.16-py36_0        --> 2021.5.30-py37h06a4308_0\n",
      "    libedit:         3.1.20170329-h6b74fdf_2 --> 3.1.20181209-hc058e9b_0 \n",
      "    libgcc-ng:       7.2.0-hdf63c60_3        --> 9.1.0-hdf63c60_0        \n",
      "    openssl:         1.0.2o-h20670df_0       --> 1.0.2u-h7b6447c_0       \n",
      "    pip:             10.0.1-py36_0           --> 21.1.3-py37h06a4308_0   \n",
      "    python:          3.6.5-hc3d631a_2        --> 3.7.0-hc3d631a_0        \n",
      "    readline:        7.0-ha6073c6_4          --> 7.0-h7b6447c_5          \n",
      "    setuptools:      39.1.0-py36_0           --> 52.0.0-py37h06a4308_0   \n",
      "    sqlite:          3.23.1-he433501_0       --> 3.31.1-h7b6447c_0       \n",
      "    tk:              8.6.7-hc745277_3        --> 8.6.10-hbc83047_0       \n",
      "    wheel:           0.31.1-py36_0           --> 0.36.2-pyhd3eb1b0_0     \n",
      "    xz:              5.2.4-h14c3975_4        --> 5.2.5-h7b6447c_0        \n",
      "    zlib:            1.2.11-ha838bed_2       --> 1.2.11-h7b6447c_3       \n",
      "\n",
      "Proceed ([y]/n)? "
     ]
    }
   ],
   "source": [
    "!conda install tqdm"
   ]
  },
  {
   "cell_type": "code",
   "execution_count": 12,
   "id": "baef088a",
   "metadata": {},
   "outputs": [
    {
     "data": {
      "application/vnd.jupyter.widget-view+json": {
       "model_id": "760c2cf9db824ad5b541ec7744ccadf7",
       "version_major": 2,
       "version_minor": 0
      },
      "text/plain": [
       "HBox(children=(HTML(value=''), FloatProgress(value=0.0, max=10.0), HTML(value='')))"
      ]
     },
     "metadata": {},
     "output_type": "display_data"
    },
    {
     "name": "stdout",
     "output_type": "stream",
     "text": [
      "\n"
     ]
    },
    {
     "data": {
      "application/vnd.jupyter.widget-view+json": {
       "model_id": "9b7e60b5f4be434b94c10d1eddcf1c42",
       "version_major": 2,
       "version_minor": 0
      },
      "text/plain": [
       "HBox(children=(HTML(value=''), FloatProgress(value=0.0, max=10.0), HTML(value='')))"
      ]
     },
     "metadata": {},
     "output_type": "display_data"
    },
    {
     "name": "stdout",
     "output_type": "stream",
     "text": [
      "\n"
     ]
    }
   ],
   "source": [
    "import pandas as pd\n",
    "from sklearn.metrics import roc_auc_score, roc_curve, auc\n",
    "import numpy as np\n",
    "import matplotlib.pyplot as plt\n",
    "from sklearn.preprocessing import OneHotEncoder\n",
    "import matplotlib\n",
    "from tqdm.notebook import tqdm\n",
    "auc_early = []\n",
    "auc_int = []\n",
    "auc_late = []\n",
    "all_real = []\n",
    "early_probs = []\n",
    "int_probs = []\n",
    "late_probs = []\n",
    "late_real = []\n",
    "# early integration\n",
    "for split in tqdm(range(10)):\n",
    "    data = pd.read_excel('../excel_results/RNA6_CNV12_test.xlsx',\n",
    "            sheet_name='split_'+str(split), engine='openpyxl')\n",
    "    fused_prob = [[x,y,z] for x,y,z in zip(data['Intregation Prob LUAD'], data['Integration Prob HLT'], data['Integration Prob LUSC'])]\n",
    "    fused_prob = np.asarray(fused_prob)\n",
    "    y = data['Real'].values\n",
    "    all_real.append(y)\n",
    "    early_probs.append(fused_prob)\n",
    "\n",
    "# intermediate integration\n",
    "for split in tqdm(range(10)):\n",
    "    data = pd.read_excel('../excel_results/intermediate_integration_test.xlsx',\n",
    "            sheet_name='split_'+str(split), engine='openpyxl')\n",
    "    fused_prob = [[x,y,z] for x,y,z in zip(data['Intregation Prob LUAD'], data['Integration Prob HLT'], data['Integration Prob LUSC'])]\n",
    "    fused_prob = np.asarray(fused_prob)\n",
    "    int_probs.append(fused_prob)"
   ]
  },
  {
   "cell_type": "code",
   "execution_count": 13,
   "id": "63d328c1",
   "metadata": {
    "scrolled": true
   },
   "outputs": [
    {
     "name": "stderr",
     "output_type": "stream",
     "text": [
      "findfont: Font family ['normal'] not found. Falling back to DejaVu Sans.\n",
      "findfont: Font family ['normal'] not found. Falling back to DejaVu Sans.\n",
      "findfont: Font family ['normal'] not found. Falling back to DejaVu Sans.\n",
      "The PostScript backend does not support transparency; partially transparent artists will be rendered opaque.\n",
      "The PostScript backend does not support transparency; partially transparent artists will be rendered opaque.\n"
     ]
    },
    {
     "data": {
      "image/png": "[encoded data removed]",
      "text/plain": [
       "<Figure size 432x288 with 1 Axes>"
      ]
     },
     "metadata": {
      "needs_background": "light"
     },
     "output_type": "display_data"
    },
    {
     "name": "stderr",
     "output_type": "stream",
     "text": [
      "The PostScript backend does not support transparency; partially transparent artists will be rendered opaque.\n",
      "The PostScript backend does not support transparency; partially transparent artists will be rendered opaque.\n"
     ]
    },
    {
     "data": {
      "image/png": "[encoded data removed]",
      "text/plain": [
       "<Figure size 432x288 with 1 Axes>"
      ]
     },
     "metadata": {
      "needs_background": "light"
     },
     "output_type": "display_data"
    },
    {
     "name": "stderr",
     "output_type": "stream",
     "text": [
      "The PostScript backend does not support transparency; partially transparent artists will be rendered opaque.\n",
      "The PostScript backend does not support transparency; partially transparent artists will be rendered opaque.\n"
     ]
    },
    {
     "data": {
      "image/png": "[encoded data removed]",
      "text/plain": [
       "<Figure size 432x288 with 1 Axes>"
      ]
     },
     "metadata": {
      "needs_background": "light"
     },
     "output_type": "display_data"
    }
   ],
   "source": [
    "\n",
    "font = {'family' : 'normal',\n",
    "        'weight' : 'bold',\n",
    "        'size'   : 12}\n",
    "\n",
    "matplotlib.rc('font', **font)\n",
    "\n",
    "\n",
    "all_real = np.concatenate(all_real)\n",
    "n_values = np.max(all_real) + 1\n",
    "y_hot = np.eye(n_values)[all_real]\n",
    "n_values = np.max(all_real) + 1\n",
    "y_hot_late = np.eye(n_values)[late_real]\n",
    "\n",
    "early_probs = np.concatenate(early_probs)\n",
    "int_probs = np.concatenate(int_probs)\n",
    "\n",
    "# Compute ROC curve and ROC area for each class\n",
    "fpr_early = dict()\n",
    "tpr_early = dict()\n",
    "roc_auc_early = dict()\n",
    "for i in range(3):\n",
    "    fpr_early[i], tpr_early[i], _ = roc_curve(y_hot[:, i], early_probs[:, i])\n",
    "    roc_auc_early[i] = auc(fpr_early[i], tpr_early[i])\n",
    "\n",
    "fpr_int = dict()\n",
    "tpr_int = dict()\n",
    "roc_auc_int = dict()\n",
    "for i in range(3):\n",
    "    fpr_int[i], tpr_int[i], _ = roc_curve(y_hot[:, i], int_probs[:, i])\n",
    "    roc_auc_int[i] = auc(fpr_int[i], tpr_int[i])\n",
    "\n",
    "\n",
    "\n",
    "plt.figure()\n",
    "lw = 2\n",
    "plt.plot(fpr_early[0], tpr_early[0], color='darkorange',\n",
    "lw=lw, label='Early ROC curve (area = %0.3f)' % roc_auc_early[0])\n",
    "plt.plot(fpr_int[0], tpr_int[0], color='darkgreen',\n",
    "lw=lw, label='Intermediate ROC curve (area = %0.3f)' % roc_auc_int[0])\n",
    "plt.plot([0, 1], [0, 1], color='black', lw=lw, linestyle='--')\n",
    "plt.xlim([0.0, 1.0])\n",
    "plt.ylim([0.0, 1.05])\n",
    "plt.xlabel('False Positive Rate')\n",
    "plt.ylabel('True Positive Rate')\n",
    "plt.title('ROC for LUAD class')\n",
    "plt.legend(loc=\"lower right\")\n",
    "plt.savefig('test_auc_LUAD_final.eps', dpi=300, format='eps')\n",
    "plt.show()\n",
    "plt.close()\n",
    "\n",
    "plt.figure()\n",
    "lw = 2\n",
    "plt.plot(fpr_early[1], tpr_early[1], color='darkorange',\n",
    "lw=lw, label='Early ROC curve (area = %0.3f)' % roc_auc_early[1])\n",
    "plt.plot(fpr_int[1], tpr_int[1], color='darkgreen',\n",
    "lw=lw, label='Intermediate ROC curve (area = %0.3f)' % roc_auc_int[1])\n",
    "plt.plot([0, 1], [0, 1], color='black', lw=lw, linestyle='--')\n",
    "plt.xlim([0.0, 1.0])\n",
    "plt.ylim([0.0, 1.05])\n",
    "plt.xlabel('False Positive Rate')\n",
    "plt.ylabel('True Positive Rate')\n",
    "plt.title('ROC for Healthy class')\n",
    "plt.legend(loc=\"lower right\")\n",
    "plt.savefig('test_auc_HLT_final.eps', dpi=300, format='eps')\n",
    "plt.show()\n",
    "plt.close()\n",
    "\n",
    "plt.figure()\n",
    "lw = 2\n",
    "plt.plot(fpr_early[2], tpr_early[2], color='darkorange',\n",
    "lw=lw, label='Early ROC curve (area = %0.3f)' % roc_auc_early[2])\n",
    "plt.plot(fpr_int[2], tpr_int[2], color='darkgreen',\n",
    "lw=lw, label='Intermediate ROC curve (area = %0.3f)' % roc_auc_int[2])\n",
    "plt.plot([0, 1], [0, 1], color='black', lw=lw, linestyle='--')\n",
    "plt.xlim([0.0, 1.0])\n",
    "plt.ylim([0.0, 1.05])\n",
    "plt.xlabel('False Positive Rate')\n",
    "plt.ylabel('True Positive Rate')\n",
    "plt.title('ROC for LUSC class')\n",
    "plt.legend(loc=\"lower right\")\n",
    "plt.savefig('test_auc_LUSC_final.eps', dpi=300, format='eps')\n",
    "plt.show()\n",
    "plt.close()"
   ]
  },
  {
   "cell_type": "markdown",
   "id": "f207a12c",
   "metadata": {},
   "source": [
    "## CONFUSION MATRIX"
   ]
  },
  {
   "cell_type": "code",
   "execution_count": 99,
   "id": "b54d695a",
   "metadata": {},
   "outputs": [
    {
     "data": {
      "application/vnd.jupyter.widget-view+json": {
       "model_id": "ab7001a1167b46d0b4009a1b6888d8e8",
       "version_major": 2,
       "version_minor": 0
      },
      "text/plain": [
       "  0%|          | 0/10 [00:00<?, ?it/s]"
      ]
     },
     "metadata": {},
     "output_type": "display_data"
    },
    {
     "data": {
      "application/vnd.jupyter.widget-view+json": {
       "model_id": "96f7f73b291e44ee80077157f84490d1",
       "version_major": 2,
       "version_minor": 0
      },
      "text/plain": [
       "  0%|          | 0/10 [00:00<?, ?it/s]"
      ]
     },
     "metadata": {},
     "output_type": "display_data"
    },
    {
     "data": {
      "application/vnd.jupyter.widget-view+json": {
       "model_id": "937f8c11eab647ccba4758f0d922b899",
       "version_major": 2,
       "version_minor": 0
      },
      "text/plain": [
       "  0%|          | 0/10 [00:00<?, ?it/s]"
      ]
     },
     "metadata": {},
     "output_type": "display_data"
    }
   ],
   "source": [
    "early_real = []\n",
    "int_real = []\n",
    "late_real = []\n",
    "early_preds = []\n",
    "int_preds = []\n",
    "late_preds = []\n",
    "\n",
    "# early integration\n",
    "for split in tqdm(range(10)):\n",
    "    data = pd.read_excel('RNA6_CNV12_test.xlsx',\n",
    "            sheet_name='split_'+str(split), engine='openpyxl')\n",
    "    y = data['Real'].values\n",
    "    early_real.append(y)\n",
    "    early_preds.append(data['Integration Pred'].values)\n",
    "\n",
    "# intermediate integration\n",
    "for split in tqdm(range(10)):\n",
    "    data = pd.read_excel('intermediate_integration_test.xlsx',\n",
    "            sheet_name='split_'+str(split), engine='openpyxl')\n",
    "    y = data['Real'].values\n",
    "    int_real.append(y)\n",
    "    int_preds.append(data['Integration Pred'].values)"
   ]
  },
  {
   "cell_type": "code",
   "execution_count": 100,
   "id": "ed257080",
   "metadata": {},
   "outputs": [],
   "source": [
    "import itertools\n",
    "\n",
    "font = {'family' : 'normal',\n",
    "        'weight' : 'bold',\n",
    "        'size'   : 16}\n",
    "\n",
    "matplotlib.rc('font', **font)\n",
    "def plot_cm(real_labels, preds, title, save_name):\n",
    "    cm = confusion_matrix(real_labels, preds)\n",
    "\n",
    "    cmap = None\n",
    "    target_names = ['LUAD', 'Healthy', 'LUSC']\n",
    "    normalize = False\n",
    "\n",
    "    if cmap is None:\n",
    "        cmap = plt.get_cmap('Blues')\n",
    "\n",
    "    plt.figure(figsize=(8, 6))\n",
    "    plt.imshow(cm, interpolation='nearest', cmap=cmap)\n",
    "    plt.title(title)\n",
    "    plt.colorbar()\n",
    "\n",
    "    if target_names is not None:\n",
    "        tick_marks = np.arange(len(target_names))\n",
    "        plt.xticks(tick_marks, target_names, rotation=45)\n",
    "        plt.yticks(tick_marks, target_names)\n",
    "\n",
    "    if normalize:\n",
    "        cm_cnn = cm.astype('float') / cm.sum(axis=1)[:, np.newaxis]\n",
    "\n",
    "\n",
    "    thresh = cm.max() / 1.5 if normalize else cm.max() / 2\n",
    "    for i, j in itertools.product(range(cm.shape[0]), range(cm.shape[1])):\n",
    "        if normalize:\n",
    "            plt.text(j, i, \"{:0.4f}\".format(cm[i, j]),\n",
    "                        horizontalalignment=\"center\",\n",
    "                        color=\"white\" if cm[i, j] > thresh else \"black\")\n",
    "        else:\n",
    "            plt.text(j, i, \"{:,}\".format(cm[i, j]),\n",
    "                        horizontalalignment=\"center\",\n",
    "                        color=\"white\" if cm[i, j] > thresh else \"black\")\n",
    "\n",
    "\n",
    "    plt.tight_layout()\n",
    "    plt.ylabel('Predicted label')\n",
    "    plt.savefig(save_name, dpi=300, bbox_inches = \"tight\", format='eps')\n",
    "    plt.show()"
   ]
  },
  {
   "cell_type": "code",
   "execution_count": 101,
   "id": "3e997bbe",
   "metadata": {},
   "outputs": [],
   "source": [
    "early_real = np.concatenate(early_real)\n",
    "int_real = np.concatenate(int_real)\n",
    "\n",
    "early_preds = np.concatenate(early_preds)\n",
    "int_preds = np.concatenate(int_preds)"
   ]
  },
  {
   "cell_type": "code",
   "execution_count": 91,
   "id": "d5be32bd",
   "metadata": {
    "scrolled": false
   },
   "outputs": [
    {
     "name": "stderr",
     "output_type": "stream",
     "text": [
      "findfont: Font family ['normal'] not found. Falling back to DejaVu Sans.\n",
      "findfont: Font family ['normal'] not found. Falling back to DejaVu Sans.\n",
      "findfont: Font family ['normal'] not found. Falling back to DejaVu Sans.\n"
     ]
    },
    {
     "data": {
      "image/png": "[encoded data removed]",
      "text/plain": [
       "<Figure size 576x432 with 2 Axes>"
      ]
     },
     "metadata": {
      "needs_background": "light"
     },
     "output_type": "display_data"
    }
   ],
   "source": [
    "plot_cm(early_real, early_preds, title='Early Fusion', save_name='early_fusion_cm.eps')"
   ]
  },
  {
   "cell_type": "code",
   "execution_count": 93,
   "id": "b2952d13",
   "metadata": {},
   "outputs": [
    {
     "data": {
      "image/png": "[encoded data removed]",
      "text/plain": [
       "<Figure size 576x432 with 2 Axes>"
      ]
     },
     "metadata": {
      "needs_background": "light"
     },
     "output_type": "display_data"
    }
   ],
   "source": [
    "plot_cm(int_real, int_preds, title='Intermediate Fusion', save_name='intermediate_fusion_cm.eps')"
   ]
  }
 ],
 "metadata": {
  "kernelspec": {
   "display_name": "Python 3",
   "language": "python",
   "name": "python3"
  },
  "language_info": {
   "codemirror_mode": {
    "name": "ipython",
    "version": 3
   },
   "file_extension": ".py",
   "mimetype": "text/x-python",
   "name": "python",
   "nbconvert_exporter": "python",
   "pygments_lexer": "ipython3",
   "version": "3.9.1"
  },
  "toc": {
   "base_numbering": 1,
   "nav_menu": {},
   "number_sections": true,
   "sideBar": true,
   "skip_h1_title": false,
   "title_cell": "Table of Contents",
   "title_sidebar": "Contents",
   "toc_cell": false,
   "toc_position": {},
   "toc_section_display": true,
   "toc_window_display": false
  },
  "varInspector": {
   "cols": {
    "lenName": 16,
    "lenType": 16,
    "lenVar": 40
   },
   "kernels_config": {
    "python": {
     "delete_cmd_postfix": "",
     "delete_cmd_prefix": "del ",
     "library": "var_list.py",
     "varRefreshCmd": "print(var_dic_list())"
    },
    "r": {
     "delete_cmd_postfix": ") ",
     "delete_cmd_prefix": "rm(",
     "library": "var_list.r",
     "varRefreshCmd": "cat(var_dic_list()) "
    }
   },
   "types_to_exclude": [
    "module",
    "function",
    "builtin_function_or_method",
    "instance",
    "_Feature"
   ],
   "window_display": false
  }
 },
 "nbformat": 4,
 "nbformat_minor": 5
}
